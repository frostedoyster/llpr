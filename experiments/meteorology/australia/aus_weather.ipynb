{
 "cells": [
  {
   "cell_type": "code",
   "execution_count": 4,
   "metadata": {},
   "outputs": [],
   "source": [
    "import numpy as np\n",
    "import pandas as pd\n",
    "pd.set_option('display.max_columns', None)  # Shows all columns"
   ]
  },
  {
   "cell_type": "code",
   "execution_count": 5,
   "metadata": {},
   "outputs": [],
   "source": [
    "df = pd.read_csv('weatherAUS.csv')"
   ]
  },
  {
   "cell_type": "code",
   "execution_count": 6,
   "metadata": {},
   "outputs": [
    {
     "name": "stdout",
     "output_type": "stream",
     "text": [
      "         Date Location  MinTemp  MaxTemp  Rainfall  Evaporation  Sunshine  \\\n",
      "0  2008-12-01   Albury     13.4     22.9       0.6          NaN       NaN   \n",
      "1  2008-12-02   Albury      7.4     25.1       0.0          NaN       NaN   \n",
      "2  2008-12-03   Albury     12.9     25.7       0.0          NaN       NaN   \n",
      "3  2008-12-04   Albury      9.2     28.0       0.0          NaN       NaN   \n",
      "4  2008-12-05   Albury     17.5     32.3       1.0          NaN       NaN   \n",
      "\n",
      "  WindGustDir  WindGustSpeed WindDir9am WindDir3pm  WindSpeed9am  \\\n",
      "0           W           44.0          W        WNW          20.0   \n",
      "1         WNW           44.0        NNW        WSW           4.0   \n",
      "2         WSW           46.0          W        WSW          19.0   \n",
      "3          NE           24.0         SE          E          11.0   \n",
      "4           W           41.0        ENE         NW           7.0   \n",
      "\n",
      "   WindSpeed3pm  Humidity9am  Humidity3pm  Pressure9am  Pressure3pm  Cloud9am  \\\n",
      "0          24.0         71.0         22.0       1007.7       1007.1       8.0   \n",
      "1          22.0         44.0         25.0       1010.6       1007.8       NaN   \n",
      "2          26.0         38.0         30.0       1007.6       1008.7       NaN   \n",
      "3           9.0         45.0         16.0       1017.6       1012.8       NaN   \n",
      "4          20.0         82.0         33.0       1010.8       1006.0       7.0   \n",
      "\n",
      "   Cloud3pm  Temp9am  Temp3pm RainToday RainTomorrow  \n",
      "0       NaN     16.9     21.8        No           No  \n",
      "1       NaN     17.2     24.3        No           No  \n",
      "2       2.0     21.0     23.2        No           No  \n",
      "3       NaN     18.1     26.5        No           No  \n",
      "4       8.0     17.8     29.7        No           No  \n"
     ]
    }
   ],
   "source": [
    "print(df.head(5))"
   ]
  },
  {
   "cell_type": "code",
   "execution_count": 7,
   "metadata": {},
   "outputs": [
    {
     "name": "stdout",
     "output_type": "stream",
     "text": [
      "145460\n",
      "            Date  Location  MinTemp  MaxTemp  Rainfall  Evaporation  Sunshine  \\\n",
      "96320 2008-07-01  Adelaide      8.8     15.7       5.0          1.6       2.6   \n",
      "96321 2008-07-02  Adelaide     12.7     15.8       0.8          1.4       7.8   \n",
      "96322 2008-07-03  Adelaide      6.2     15.1       0.0          1.8       2.1   \n",
      "96323 2008-07-04  Adelaide      5.3     15.9       0.0          1.4       8.0   \n",
      "96324 2008-07-05  Adelaide      9.8     15.4       0.0          NaN       0.9   \n",
      "\n",
      "      WindGustDir  WindGustSpeed WindDir9am WindDir3pm  WindSpeed9am  \\\n",
      "96320          NW           48.0         SW          W          13.0   \n",
      "96321          SW           35.0        SSW         SW          13.0   \n",
      "96322           W           20.0        NNE         SW           2.0   \n",
      "96323         NNE           30.0        NNE         NE           6.0   \n",
      "96324           N           30.0        NNE         NE           9.0   \n",
      "\n",
      "       WindSpeed3pm  Humidity9am  Humidity3pm  Pressure9am  Pressure3pm  \\\n",
      "96320          15.0         92.0         67.0       1017.4       1017.7   \n",
      "96321          15.0         75.0         52.0       1022.4       1022.6   \n",
      "96322          11.0         81.0         56.0       1027.8       1026.5   \n",
      "96323          13.0         71.0         46.0       1028.7       1025.6   \n",
      "96324           9.0         56.0         67.0       1023.6       1020.2   \n",
      "\n",
      "       Cloud9am  Cloud3pm  Temp9am  Temp3pm RainToday RainTomorrow  \\\n",
      "96320       NaN       NaN     13.5     14.9       Yes           No   \n",
      "96321       NaN       NaN     13.7     15.5        No           No   \n",
      "96322       NaN       NaN      9.3     13.9        No           No   \n",
      "96323       NaN       NaN     10.2     15.3        No           No   \n",
      "96324       NaN       NaN     11.3     13.8        No          NaN   \n",
      "\n",
      "       NextDayMaxTemp  \n",
      "96320            15.8  \n",
      "96321            15.1  \n",
      "96322            15.9  \n",
      "96323            15.4  \n",
      "96324            15.7  \n"
     ]
    }
   ],
   "source": [
    "print(len(df))\n",
    "\n",
    "# Convert 'Date' to datetime\n",
    "df['Date'] = pd.to_datetime(df['Date'], format='%Y-%m-%d')\n",
    "\n",
    "# Sort by 'Location' and 'Date'\n",
    "df.sort_values(by=['Location', 'Date'], inplace=True)\n",
    "\n",
    "# Shift the 'MaxTemp' column to get the temperature of the next day\n",
    "df['NextDayMaxTemp'] = df.groupby('Location')['MaxTemp'].shift(-1)\n",
    "\n",
    "# Display the resulting DataFrame\n",
    "print(df.head())"
   ]
  },
  {
   "cell_type": "code",
   "execution_count": 8,
   "metadata": {},
   "outputs": [
    {
     "name": "stdout",
     "output_type": "stream",
     "text": [
      "Index(['Date', 'Location', 'MinTemp', 'MaxTemp', 'Rainfall', 'Evaporation',\n",
      "       'Sunshine', 'WindGustDir', 'WindGustSpeed', 'WindDir9am', 'WindDir3pm',\n",
      "       'WindSpeed9am', 'WindSpeed3pm', 'Humidity9am', 'Humidity3pm',\n",
      "       'Pressure9am', 'Pressure3pm', 'Cloud9am', 'Cloud3pm', 'Temp9am',\n",
      "       'Temp3pm', 'RainToday', 'RainTomorrow', 'NextDayMaxTemp'],\n",
      "      dtype='object')\n",
      "Index(['Location', 'MinTemp', 'MaxTemp', 'Rainfall', 'Evaporation', 'Sunshine',\n",
      "       'WindGustDir', 'WindGustSpeed', 'WindDir9am', 'WindDir3pm',\n",
      "       'WindSpeed9am', 'WindSpeed3pm', 'Humidity9am', 'Humidity3pm',\n",
      "       'Pressure9am', 'Pressure3pm', 'Cloud9am', 'Cloud3pm', 'Temp9am',\n",
      "       'Temp3pm', 'NextDayMaxTemp'],\n",
      "      dtype='object')\n"
     ]
    }
   ],
   "source": [
    "print(df.columns)\n",
    "df = df.drop('Date', axis=1)\n",
    "df = df.drop('RainToday', axis=1)\n",
    "df = df.drop('RainTomorrow', axis=1)\n",
    "print(df.columns)"
   ]
  },
  {
   "cell_type": "code",
   "execution_count": 9,
   "metadata": {},
   "outputs": [
    {
     "name": "stdout",
     "output_type": "stream",
     "text": [
      "145460\n",
      "56530\n"
     ]
    }
   ],
   "source": [
    "print(len(df))\n",
    "df = df.dropna()\n",
    "print(len(df))"
   ]
  },
  {
   "cell_type": "code",
   "execution_count": 10,
   "metadata": {},
   "outputs": [
    {
     "name": "stdout",
     "output_type": "stream",
     "text": [
      "            Location  MinTemp  MaxTemp  Rainfall  Evaporation  Sunshine  \\\n",
      "136071  AliceSprings     19.6     37.6       0.0         11.2       9.8   \n",
      "136072  AliceSprings     21.0     39.1       1.2          9.0      12.2   \n",
      "136073  AliceSprings     22.9     40.9       0.0         11.6      12.6   \n",
      "136074  AliceSprings     24.7     40.5       0.0         16.0       7.8   \n",
      "136075  AliceSprings     23.4     32.4       0.2         12.2       4.1   \n",
      "\n",
      "       WindGustDir  WindGustSpeed WindDir9am WindDir3pm  WindSpeed9am  \\\n",
      "136071         WNW           87.0        NNE         NE          20.0   \n",
      "136072         NNW           41.0        NNW          S          24.0   \n",
      "136073         NNW           48.0        ENE          N           7.0   \n",
      "136074         WNW           72.0        SSW          W           2.0   \n",
      "136075         SSW           46.0          S          S           9.0   \n",
      "\n",
      "        WindSpeed3pm  Humidity9am  Humidity3pm  Pressure9am  Pressure3pm  \\\n",
      "136071          11.0         17.0         16.0       1010.5       1005.8   \n",
      "136072           9.0         18.0         13.0       1009.3       1004.6   \n",
      "136073          24.0         17.0         11.0       1006.3       1003.4   \n",
      "136074          22.0         29.0         24.0       1008.7       1006.9   \n",
      "136075          17.0         58.0         43.0       1014.0       1010.7   \n",
      "\n",
      "        Cloud9am  Cloud3pm  Temp9am  Temp3pm  NextDayMaxTemp  \n",
      "136071       0.0       3.0     30.4     37.2            39.1  \n",
      "136072       2.0       5.0     32.5     38.2            40.9  \n",
      "136073       0.0       3.0     35.0     40.4            40.5  \n",
      "136074       3.0       6.0     32.3     36.5            32.4  \n",
      "136075       7.0       6.0     26.8     31.1            25.1  \n"
     ]
    }
   ],
   "source": [
    "print(df.head(5))"
   ]
  },
  {
   "cell_type": "code",
   "execution_count": 11,
   "metadata": {},
   "outputs": [
    {
     "name": "stdout",
     "output_type": "stream",
     "text": [
      "26\n",
      "16\n"
     ]
    }
   ],
   "source": [
    "print(df['Location'].nunique())\n",
    "print(df['WindGustDir'].nunique())"
   ]
  },
  {
   "cell_type": "code",
   "execution_count": 12,
   "metadata": {},
   "outputs": [
    {
     "name": "stdout",
     "output_type": "stream",
     "text": [
      "Index(['Location', 'MinTemp', 'MaxTemp', 'Rainfall', 'Evaporation', 'Sunshine',\n",
      "       'WindGustSpeed', 'WindSpeed9am', 'WindSpeed3pm', 'Humidity9am',\n",
      "       'Humidity3pm', 'Pressure9am', 'Pressure3pm', 'Cloud9am', 'Cloud3pm',\n",
      "       'Temp9am', 'Temp3pm', 'NextDayMaxTemp', 'WindGustDir_x',\n",
      "       'WindGustDir_y', 'WindDir9am_x', 'WindDir9am_y', 'WindDir3pm_x',\n",
      "       'WindDir3pm_y'],\n",
      "      dtype='object')\n"
     ]
    }
   ],
   "source": [
    "# Function to convert wind direction to angle\n",
    "def direction_to_angle(direction):\n",
    "    directions = ['N', 'NNE', 'NE', 'ENE', 'E', 'ESE', 'SE', 'SSE', 'S', 'SSW', 'SW', 'WSW', 'W', 'WNW', 'NW', 'NNW']\n",
    "    return directions.index(direction) * 360 / len(directions)\n",
    "\n",
    "columns_that_contain_direction = [col for col in df.columns if 'Dir' in col]\n",
    "\n",
    "for col in columns_that_contain_direction:\n",
    "    radians = np.deg2rad(df[col].apply(direction_to_angle))\n",
    "    df[col + '_x'] = np.cos(radians)\n",
    "    df[col + '_y'] = np.sin(radians)\n",
    "    # drop the original column\n",
    "    df = df.drop(col, axis=1)\n",
    "\n",
    "print(df.columns)"
   ]
  },
  {
   "cell_type": "code",
   "execution_count": 13,
   "metadata": {},
   "outputs": [
    {
     "name": "stdout",
     "output_type": "stream",
     "text": [
      "            Location  MinTemp  MaxTemp  Rainfall  Evaporation  Sunshine  \\\n",
      "136071  AliceSprings     19.6     37.6       0.0         11.2       9.8   \n",
      "136072  AliceSprings     21.0     39.1       1.2          9.0      12.2   \n",
      "136073  AliceSprings     22.9     40.9       0.0         11.6      12.6   \n",
      "136074  AliceSprings     24.7     40.5       0.0         16.0       7.8   \n",
      "136075  AliceSprings     23.4     32.4       0.2         12.2       4.1   \n",
      "\n",
      "        WindGustSpeed  WindSpeed9am  WindSpeed3pm  Humidity9am  Humidity3pm  \\\n",
      "136071           87.0          20.0          11.0         17.0         16.0   \n",
      "136072           41.0          24.0           9.0         18.0         13.0   \n",
      "136073           48.0           7.0          24.0         17.0         11.0   \n",
      "136074           72.0           2.0          22.0         29.0         24.0   \n",
      "136075           46.0           9.0          17.0         58.0         43.0   \n",
      "\n",
      "        Pressure9am  Pressure3pm  Cloud9am  Cloud3pm  Temp9am  Temp3pm  \\\n",
      "136071       1010.5       1005.8       0.0       3.0     30.4     37.2   \n",
      "136072       1009.3       1004.6       2.0       5.0     32.5     38.2   \n",
      "136073       1006.3       1003.4       0.0       3.0     35.0     40.4   \n",
      "136074       1008.7       1006.9       3.0       6.0     32.3     36.5   \n",
      "136075       1014.0       1010.7       7.0       6.0     26.8     31.1   \n",
      "\n",
      "        NextDayMaxTemp  WindGustDir_x  WindGustDir_y  WindDir9am_x  \\\n",
      "136071            39.1       0.382683      -0.923880      0.923880   \n",
      "136072            40.9       0.923880      -0.382683      0.923880   \n",
      "136073            40.5       0.923880      -0.382683      0.382683   \n",
      "136074            32.4       0.382683      -0.923880     -0.923880   \n",
      "136075            25.1      -0.923880      -0.382683     -1.000000   \n",
      "\n",
      "        WindDir9am_y  WindDir3pm_x  WindDir3pm_y  \n",
      "136071  3.826834e-01  7.071068e-01  7.071068e-01  \n",
      "136072 -3.826834e-01 -1.000000e+00  1.224647e-16  \n",
      "136073  9.238795e-01  1.000000e+00  0.000000e+00  \n",
      "136074 -3.826834e-01 -1.836970e-16 -1.000000e+00  \n",
      "136075  1.224647e-16 -1.000000e+00  1.224647e-16  \n"
     ]
    }
   ],
   "source": [
    "print(df.head(5))"
   ]
  },
  {
   "cell_type": "code",
   "execution_count": 14,
   "metadata": {},
   "outputs": [],
   "source": [
    "from sklearn.preprocessing import LabelEncoder"
   ]
  },
  {
   "cell_type": "code",
   "execution_count": 15,
   "metadata": {},
   "outputs": [],
   "source": [
    "df[\"Location\"] = LabelEncoder().fit_transform(df[\"Location\"])"
   ]
  },
  {
   "cell_type": "code",
   "execution_count": 16,
   "metadata": {},
   "outputs": [
    {
     "name": "stdout",
     "output_type": "stream",
     "text": [
      "26\n"
     ]
    }
   ],
   "source": [
    "# print(df.head(5))\n",
    "print(df[\"Location\"].nunique())"
   ]
  },
  {
   "cell_type": "code",
   "execution_count": 17,
   "metadata": {},
   "outputs": [],
   "source": [
    "# Save the dataframe to a csv file\n",
    "df.to_csv('weatherAUS_processed.csv', index=False)"
   ]
  },
  {
   "cell_type": "code",
   "execution_count": 1,
   "metadata": {},
   "outputs": [
    {
     "ename": "NameError",
     "evalue": "name 'df' is not defined",
     "output_type": "error",
     "traceback": [
      "\u001b[0;31m---------------------------------------------------------------------------\u001b[0m",
      "\u001b[0;31mNameError\u001b[0m                                 Traceback (most recent call last)",
      "Cell \u001b[0;32mIn [1], line 1\u001b[0m\n\u001b[0;32m----> 1\u001b[0m \u001b[38;5;28mprint\u001b[39m(\u001b[43mdf\u001b[49m[\u001b[38;5;124m\"\u001b[39m\u001b[38;5;124mLocation\u001b[39m\u001b[38;5;124m\"\u001b[39m]\u001b[38;5;241m.\u001b[39mnunique())\n",
      "\u001b[0;31mNameError\u001b[0m: name 'df' is not defined"
     ]
    }
   ],
   "source": []
  },
  {
   "cell_type": "code",
   "execution_count": null,
   "metadata": {},
   "outputs": [],
   "source": []
  }
 ],
 "metadata": {
  "kernelspec": {
   "display_name": "Python 3",
   "language": "python",
   "name": "python3"
  },
  "language_info": {
   "codemirror_mode": {
    "name": "ipython",
    "version": 3
   },
   "file_extension": ".py",
   "mimetype": "text/x-python",
   "name": "python",
   "nbconvert_exporter": "python",
   "pygments_lexer": "ipython3",
   "version": "3.8.10"
  }
 },
 "nbformat": 4,
 "nbformat_minor": 2
}
