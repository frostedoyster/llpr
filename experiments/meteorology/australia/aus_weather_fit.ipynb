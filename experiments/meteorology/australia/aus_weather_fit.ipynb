{
 "cells": [
  {
   "cell_type": "code",
   "execution_count": 42,
   "metadata": {},
   "outputs": [],
   "source": [
    "from sklearn.datasets import fetch_california_housing\n",
    "\n",
    "import pandas as pd\n",
    "import numpy as np\n",
    "import torch\n",
    "\n",
    "\n",
    "data = pd.read_csv('weatherAUS_processed.csv')\n",
    "locations, features, targets = data['Location'], data.drop(['Location', 'NextDayMaxTemp'], axis=1), data['NextDayMaxTemp']\n",
    "\n",
    "locations = torch.tensor(locations, dtype=torch.int64)\n",
    "features = torch.tensor(features.values, dtype=torch.get_default_dtype())\n",
    "targets = torch.tensor(targets.values, dtype=torch.get_default_dtype())\n",
    "number_of_data = targets.shape[0]\n",
    "permutation = torch.tensor(np.random.permutation(number_of_data), dtype=torch.int64)\n",
    "locations = locations[permutation]\n",
    "features = features[permutation]\n",
    "targets = targets[permutation]\n",
    "\n",
    "n_train = 2 * number_of_data // 10\n",
    "n_valid = number_of_data // 10\n",
    "n_test = number_of_data - n_train\n",
    "\n",
    "l_train = locations[:n_train]\n",
    "l_valid = locations[n_train:n_train+n_valid]\n",
    "l_test = locations[n_train+n_valid:]\n",
    "X_train = features[:n_train]\n",
    "X_valid = features[n_train:n_train+n_valid]\n",
    "X_test = features[n_train+n_valid:]\n",
    "y_train = targets[:n_train].reshape(-1, 1)\n",
    "y_valid = targets[n_train:n_train+n_valid].reshape(-1, 1)\n",
    "y_test = targets[n_train+n_valid:].reshape(-1, 1)\n",
    "\n",
    "mean_X = torch.mean(X_train, dim=0)\n",
    "std_X = torch.std(X_train, dim=0, correction=0)\n",
    "std_X[std_X == 0.0] = 1.0  # avoid division by zero\n",
    "X_train = (X_train - mean_X) / std_X\n",
    "X_valid = (X_valid - mean_X) / std_X\n",
    "X_test = (X_test - mean_X) / std_X\n",
    "\n",
    "train_dataset = torch.utils.data.TensorDataset(l_train, X_train, y_train)\n",
    "valid_dataset = torch.utils.data.TensorDataset(l_valid, X_valid, y_valid)\n",
    "test_dataset = torch.utils.data.TensorDataset(l_test, X_test, y_test)"
   ]
  },
  {
   "cell_type": "code",
   "execution_count": 67,
   "metadata": {},
   "outputs": [],
   "source": [
    "n_layers = 2\n",
    "n_features = X_train.shape[1]\n",
    "n_neurons_embedding = 512\n",
    "n_neurons_per_layer = 512\n",
    "\n",
    "class FirstLayer(torch.nn.Module):\n",
    "    def __init__(self, n_neurons_embedding):\n",
    "        super().__init__()\n",
    "        self.location_embedding = torch.nn.Embedding(26, n_neurons_embedding)\n",
    "\n",
    "    def forward(self, loc_x):\n",
    "        loc, x = loc_x\n",
    "        return torch.cat(\n",
    "            (self.location_embedding(loc), x),\n",
    "            dim=1\n",
    "        )\n",
    "\n",
    "model = torch.nn.Sequential(\n",
    "    FirstLayer(n_neurons_embedding),\n",
    "    torch.nn.Linear(n_neurons_embedding+n_features, n_neurons_per_layer),\n",
    "    torch.nn.SiLU(),\n",
    "    torch.nn.Linear(n_neurons_per_layer, n_neurons_per_layer),\n",
    "    torch.nn.SiLU(),\n",
    "    torch.nn.Linear(n_neurons_per_layer, 1),\n",
    ")\n"
   ]
  },
  {
   "cell_type": "code",
   "execution_count": 68,
   "metadata": {},
   "outputs": [
    {
     "name": "stdout",
     "output_type": "stream",
     "text": [
      "11306\n",
      "5653\n",
      "39571\n"
     ]
    }
   ],
   "source": [
    "print(len(train_dataset))\n",
    "print(len(valid_dataset))\n",
    "print(len(test_dataset))"
   ]
  },
  {
   "cell_type": "code",
   "execution_count": 69,
   "metadata": {},
   "outputs": [
    {
     "name": "stdout",
     "output_type": "stream",
     "text": [
      "Before training: Valid loss: 635.6154\n"
     ]
    },
    {
     "name": "stdout",
     "output_type": "stream",
     "text": [
      "Epoch: 0, Train loss: 6562.3821, Valid loss: 11.9765\n",
      "Epoch: 10, Train loss: 741.1174, Valid loss: 8.4156\n",
      "Epoch: 20, Train loss: 704.1350, Valid loss: 8.1297\n",
      "Epoch: 30, Train loss: 661.8171, Valid loss: 8.1188\n",
      "Epoch: 40, Train loss: 639.3186, Valid loss: 8.5296\n",
      "Epoch: 50, Train loss: 601.5196, Valid loss: 7.9446\n",
      "Epoch: 60, Train loss: 577.2754, Valid loss: 8.3578\n",
      "Epoch: 70, Train loss: 549.8020, Valid loss: 8.3083\n",
      "Epoch: 80, Train loss: 486.1299, Valid loss: 8.8412\n",
      "Epoch: 90, Train loss: 418.3447, Valid loss: 8.8119\n"
     ]
    }
   ],
   "source": [
    "train_dataloader = torch.utils.data.DataLoader(train_dataset, batch_size=128, shuffle=True)\n",
    "valid_dataloader = torch.utils.data.DataLoader(valid_dataset, batch_size=128, shuffle=False)\n",
    "test_dataloader = torch.utils.data.DataLoader(test_dataset, batch_size=128, shuffle=False)\n",
    "\n",
    "optimizer = torch.optim.AdamW(model.parameters(), lr=1e-3)\n",
    "\n",
    "with torch.no_grad():\n",
    "    y_pred = model((l_valid, X_valid))\n",
    "    valid_loss = torch.nn.functional.mse_loss(y_pred, y_valid)\n",
    "    print(f\"Before training: Valid loss: {valid_loss:.4f}\")\n",
    "\n",
    "best_model = None\n",
    "best_valid_loss = float(\"inf\")\n",
    "for epoch in range(100):\n",
    "    train_loss = 0.0\n",
    "    for l_batch, X_batch, y_batch in train_dataloader:\n",
    "        y_pred = model((l_batch, X_batch))\n",
    "        loss = torch.nn.functional.mse_loss(y_pred, y_batch)\n",
    "        optimizer.zero_grad()\n",
    "        loss.backward()\n",
    "        train_loss += loss.item()\n",
    "        optimizer.step()\n",
    "    if epoch % 10 == 0:\n",
    "        with torch.no_grad():\n",
    "            y_pred = model((l_valid, X_valid))\n",
    "            valid_loss = torch.nn.functional.mse_loss(y_pred, y_valid)\n",
    "            if valid_loss < best_valid_loss:\n",
    "                best_valid_loss = valid_loss\n",
    "                best_model = model.state_dict()\n",
    "            print(f\"Epoch: {epoch}, Train loss: {train_loss:.4f}, Valid loss: {valid_loss:.4f}\")\n"
   ]
  },
  {
   "cell_type": "code",
   "execution_count": 70,
   "metadata": {},
   "outputs": [
    {
     "data": {
      "text/plain": [
       "<All keys matched successfully>"
      ]
     },
     "execution_count": 70,
     "metadata": {},
     "output_type": "execute_result"
    }
   ],
   "source": [
    "model.load_state_dict(best_model)"
   ]
  },
  {
   "cell_type": "code",
   "execution_count": 71,
   "metadata": {},
   "outputs": [],
   "source": [
    "model_without_last_layer = model[:-1]\n",
    "last_layer = model[-1]\n",
    "\n",
    "assert torch.allclose(last_layer(model_without_last_layer((l_valid, X_valid))), model((l_valid, X_valid)))"
   ]
  },
  {
   "cell_type": "code",
   "execution_count": 72,
   "metadata": {},
   "outputs": [
    {
     "name": "stderr",
     "output_type": "stream",
     "text": [
      "100%|██████████| 310/310 [00:04<00:00, 66.39it/s]\n"
     ]
    }
   ],
   "source": [
    "from tqdm import tqdm\n",
    "\n",
    "features_last_layer = model_without_last_layer((l_train, X_train))\n",
    "covariance = features_last_layer.T @ features_last_layer\n",
    "\n",
    "estimated_variances = []\n",
    "actual_variances = []\n",
    "with torch.no_grad():\n",
    "    for l_batch, X_batch, y_batch in tqdm(test_dataloader):\n",
    "        y_pred = model((l_batch, X_batch))\n",
    "        actual_variances.append((y_pred - y_batch) ** 2)\n",
    "        features_last_layer = model_without_last_layer((l_batch, X_batch))\n",
    "        estimated_variances.append(\n",
    "            torch.diag(features_last_layer @ torch.linalg.solve(covariance, features_last_layer.T))\n",
    "        )\n",
    "estimated_variances = torch.cat(estimated_variances, dim=0)\n",
    "actual_variances = torch.cat(actual_variances, dim=0)\n"
   ]
  },
  {
   "cell_type": "code",
   "execution_count": 73,
   "metadata": {},
   "outputs": [],
   "source": [
    "estimated_variances = estimated_variances.cpu().numpy()\n",
    "actual_variances = actual_variances.cpu().numpy()"
   ]
  },
  {
   "cell_type": "code",
   "execution_count": 74,
   "metadata": {},
   "outputs": [
    {
     "name": "stdout",
     "output_type": "stream",
     "text": [
      "Other bins contain 100 elements.\n",
      "The last bin contains only 71 elements.\n"
     ]
    },
    {
     "data": {
      "image/png": "[encoded data removed]",
      "text/plain": [
       "<Figure size 640x480 with 1 Axes>"
      ]
     },
     "metadata": {},
     "output_type": "display_data"
    }
   ],
   "source": [
    "n_per_bin = 100\n",
    "\n",
    "sorting = np.argsort(estimated_variances)\n",
    "estimated_variances = estimated_variances[sorting]\n",
    "actual_variances = actual_variances[sorting]\n",
    "\n",
    "bins = np.arange(0, len(estimated_variances), n_per_bin)\n",
    "estimated_variances_avg = np.array([np.mean(estimated_variances[bins[i] : bins[i + 1]]) for i in range(len(bins) - 1)])\n",
    "actual_variances_avg = np.array([np.mean(actual_variances[bins[i] : bins[i + 1]]) for i in range(len(bins) - 1)])\n",
    "\n",
    "# Warn about the fact that the last bin is not full:\n",
    "print(f\"Other bins contain {n_per_bin} elements.\")\n",
    "print(f\"The last bin contains only {len(estimated_variances) - bins[-1]} elements.\")\n",
    "\n",
    "import matplotlib.pyplot as plt\n",
    "\n",
    "plt.plot(estimated_variances_avg, actual_variances_avg, \"o\")\n",
    "plt.plot([np.min(estimated_variances_avg), np.max(estimated_variances_avg)], [np.min(actual_variances_avg), np.max(actual_variances_avg)], \"k--\")\n",
    "plt.xscale(\"log\")\n",
    "plt.yscale(\"log\")\n",
    "plt.xlabel(\"Estimated variance\")\n",
    "plt.ylabel(\"Actual variance\")\n",
    "plt.show()"
   ]
  },
  {
   "cell_type": "code",
   "execution_count": null,
   "metadata": {},
   "outputs": [],
   "source": []
  },
  {
   "cell_type": "code",
   "execution_count": null,
   "metadata": {},
   "outputs": [],
   "source": []
  }
 ],
 "metadata": {
  "kernelspec": {
   "display_name": "Python 3",
   "language": "python",
   "name": "python3"
  },
  "language_info": {
   "codemirror_mode": {
    "name": "ipython",
    "version": 3
   },
   "file_extension": ".py",
   "mimetype": "text/x-python",
   "name": "python",
   "nbconvert_exporter": "python",
   "pygments_lexer": "ipython3",
   "version": "3.8.10"
  }
 },
 "nbformat": 4,
 "nbformat_minor": 2
}
